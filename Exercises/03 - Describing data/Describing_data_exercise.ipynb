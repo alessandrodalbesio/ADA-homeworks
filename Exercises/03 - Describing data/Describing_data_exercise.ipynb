{
 "cells": [
  {
   "cell_type": "markdown",
   "metadata": {},
   "source": [
    "# Describing Data\n",
    "\n",
    "### What do you find in this notebook?\n",
    "\n",
    "In this exercise, first, you will familiarize yourself with the Python libraries 'statsmodels' and 'SciPy' that let you do statistical analysis: calculate descriptive statistics, sample datapoints, study relationships between variables, and perform hypothesis testing. Then, second, you will work on a set of exercises that will let you practice your skills.\n",
    "\n",
    "Here we show a couple of examples of how to do common analyses, but there are many more useful probability distributions and statistical tests. In the linked documentation, you will find complete information, and a lot more details compared to what is outlined in this notebook:\n",
    "- [statsmodels](https://www.statsmodels.org/stable/examples/index.html), [more complete documentation](https://www.statsmodels.org/stable/stats.html)\n",
    "- [SciPy](https://docs.scipy.org/doc/scipy/reference/stats.html)"
   ]
  },
  {
   "cell_type": "markdown",
   "metadata": {},
   "source": [
    "# Tutorial: How to use the libraries\n",
    "\n",
    "- You will be working with the full US 2015 census dataset (acs2015_county_data.csv, available at https://www.kaggle.com/muonneutrino/us-census-demographic-data#acs2015_county_data.csv). Here we load it. Take some time to familiarize yourself with the contents. One row represents one county."
   ]
  },
  {
   "cell_type": "code",
   "execution_count": 44,
   "metadata": {
    "tags": []
   },
   "outputs": [],
   "source": [
    "import pandas as pd\n",
    "import pandas as pd\n",
    "import numpy as np\n",
    "import matplotlib.pyplot as plt\n",
    "%matplotlib inline\n",
    "import seaborn as sns\n",
    "import math\n",
    "\n",
    "#load the statistical libraries\n",
    "from statsmodels.stats import diagnostic\n",
    "from statsmodels.stats.proportion import binom_test\n",
    "from scipy import stats"
   ]
  },
  {
   "cell_type": "code",
   "execution_count": 45,
   "metadata": {
    "tags": []
   },
   "outputs": [],
   "source": [
    "data_folder = './data/'\n",
    "df = pd.read_csv(data_folder + 'acs2015_county_data.csv')"
   ]
  },
  {
   "cell_type": "code",
   "execution_count": 46,
   "metadata": {},
   "outputs": [
    {
     "data": {
      "text/plain": [
       "Index(['CensusId', 'State', 'County', 'TotalPop', 'Men', 'Women', 'Hispanic',\n",
       "       'White', 'Black', 'Native', 'Asian', 'Pacific', 'Citizen', 'Income',\n",
       "       'IncomeErr', 'IncomePerCap', 'IncomePerCapErr', 'Poverty',\n",
       "       'ChildPoverty', 'Professional', 'Service', 'Office', 'Construction',\n",
       "       'Production', 'Drive', 'Carpool', 'Transit', 'Walk', 'OtherTransp',\n",
       "       'WorkAtHome', 'MeanCommute', 'Employed', 'PrivateWork', 'PublicWork',\n",
       "       'SelfEmployed', 'FamilyWork', 'Unemployment'],\n",
       "      dtype='object')"
      ]
     },
     "execution_count": 46,
     "metadata": {},
     "output_type": "execute_result"
    }
   ],
   "source": [
    "df.columns"
   ]
  },
  {
   "cell_type": "code",
   "execution_count": 47,
   "metadata": {},
   "outputs": [
    {
     "data": {
      "text/html": [
       "<div>\n",
       "<style scoped>\n",
       "    .dataframe tbody tr th:only-of-type {\n",
       "        vertical-align: middle;\n",
       "    }\n",
       "\n",
       "    .dataframe tbody tr th {\n",
       "        vertical-align: top;\n",
       "    }\n",
       "\n",
       "    .dataframe thead th {\n",
       "        text-align: right;\n",
       "    }\n",
       "</style>\n",
       "<table border=\"1\" class=\"dataframe\">\n",
       "  <thead>\n",
       "    <tr style=\"text-align: right;\">\n",
       "      <th></th>\n",
       "      <th>CensusId</th>\n",
       "      <th>State</th>\n",
       "      <th>County</th>\n",
       "      <th>TotalPop</th>\n",
       "      <th>Men</th>\n",
       "      <th>Women</th>\n",
       "      <th>Hispanic</th>\n",
       "      <th>White</th>\n",
       "      <th>Black</th>\n",
       "      <th>Native</th>\n",
       "      <th>...</th>\n",
       "      <th>Walk</th>\n",
       "      <th>OtherTransp</th>\n",
       "      <th>WorkAtHome</th>\n",
       "      <th>MeanCommute</th>\n",
       "      <th>Employed</th>\n",
       "      <th>PrivateWork</th>\n",
       "      <th>PublicWork</th>\n",
       "      <th>SelfEmployed</th>\n",
       "      <th>FamilyWork</th>\n",
       "      <th>Unemployment</th>\n",
       "    </tr>\n",
       "  </thead>\n",
       "  <tbody>\n",
       "    <tr>\n",
       "      <th>993</th>\n",
       "      <td>21001</td>\n",
       "      <td>Kentucky</td>\n",
       "      <td>Adair</td>\n",
       "      <td>18852</td>\n",
       "      <td>9308</td>\n",
       "      <td>9544</td>\n",
       "      <td>1.8</td>\n",
       "      <td>93.7</td>\n",
       "      <td>2.7</td>\n",
       "      <td>0.1</td>\n",
       "      <td>...</td>\n",
       "      <td>2.6</td>\n",
       "      <td>0.8</td>\n",
       "      <td>2.9</td>\n",
       "      <td>22.7</td>\n",
       "      <td>7700</td>\n",
       "      <td>74.0</td>\n",
       "      <td>14.6</td>\n",
       "      <td>11.2</td>\n",
       "      <td>0.1</td>\n",
       "      <td>7.7</td>\n",
       "    </tr>\n",
       "    <tr>\n",
       "      <th>996</th>\n",
       "      <td>21007</td>\n",
       "      <td>Kentucky</td>\n",
       "      <td>Ballard</td>\n",
       "      <td>8256</td>\n",
       "      <td>4098</td>\n",
       "      <td>4158</td>\n",
       "      <td>1.2</td>\n",
       "      <td>93.4</td>\n",
       "      <td>3.4</td>\n",
       "      <td>0.5</td>\n",
       "      <td>...</td>\n",
       "      <td>0.8</td>\n",
       "      <td>2.5</td>\n",
       "      <td>2.6</td>\n",
       "      <td>23.7</td>\n",
       "      <td>3489</td>\n",
       "      <td>79.9</td>\n",
       "      <td>11.7</td>\n",
       "      <td>8.4</td>\n",
       "      <td>0.0</td>\n",
       "      <td>6.2</td>\n",
       "    </tr>\n",
       "    <tr>\n",
       "      <th>2460</th>\n",
       "      <td>47065</td>\n",
       "      <td>Tennessee</td>\n",
       "      <td>Hamilton</td>\n",
       "      <td>348121</td>\n",
       "      <td>167812</td>\n",
       "      <td>180309</td>\n",
       "      <td>4.9</td>\n",
       "      <td>71.6</td>\n",
       "      <td>19.7</td>\n",
       "      <td>0.1</td>\n",
       "      <td>...</td>\n",
       "      <td>2.1</td>\n",
       "      <td>1.3</td>\n",
       "      <td>4.2</td>\n",
       "      <td>21.6</td>\n",
       "      <td>162818</td>\n",
       "      <td>79.6</td>\n",
       "      <td>14.3</td>\n",
       "      <td>5.9</td>\n",
       "      <td>0.2</td>\n",
       "      <td>8.0</td>\n",
       "    </tr>\n",
       "    <tr>\n",
       "      <th>2305</th>\n",
       "      <td>42123</td>\n",
       "      <td>Pennsylvania</td>\n",
       "      <td>Warren</td>\n",
       "      <td>40962</td>\n",
       "      <td>20500</td>\n",
       "      <td>20462</td>\n",
       "      <td>0.9</td>\n",
       "      <td>97.2</td>\n",
       "      <td>0.5</td>\n",
       "      <td>0.1</td>\n",
       "      <td>...</td>\n",
       "      <td>4.5</td>\n",
       "      <td>1.8</td>\n",
       "      <td>2.8</td>\n",
       "      <td>20.5</td>\n",
       "      <td>18545</td>\n",
       "      <td>79.9</td>\n",
       "      <td>12.4</td>\n",
       "      <td>7.3</td>\n",
       "      <td>0.3</td>\n",
       "      <td>6.6</td>\n",
       "    </tr>\n",
       "    <tr>\n",
       "      <th>2039</th>\n",
       "      <td>38099</td>\n",
       "      <td>North Dakota</td>\n",
       "      <td>Walsh</td>\n",
       "      <td>11005</td>\n",
       "      <td>5635</td>\n",
       "      <td>5370</td>\n",
       "      <td>10.6</td>\n",
       "      <td>85.7</td>\n",
       "      <td>0.2</td>\n",
       "      <td>1.5</td>\n",
       "      <td>...</td>\n",
       "      <td>5.1</td>\n",
       "      <td>0.9</td>\n",
       "      <td>5.4</td>\n",
       "      <td>17.2</td>\n",
       "      <td>5457</td>\n",
       "      <td>73.5</td>\n",
       "      <td>15.0</td>\n",
       "      <td>11.1</td>\n",
       "      <td>0.4</td>\n",
       "      <td>3.3</td>\n",
       "    </tr>\n",
       "    <tr>\n",
       "      <th>649</th>\n",
       "      <td>17109</td>\n",
       "      <td>Illinois</td>\n",
       "      <td>McDonough</td>\n",
       "      <td>32009</td>\n",
       "      <td>15654</td>\n",
       "      <td>16355</td>\n",
       "      <td>2.7</td>\n",
       "      <td>88.4</td>\n",
       "      <td>4.7</td>\n",
       "      <td>0.2</td>\n",
       "      <td>...</td>\n",
       "      <td>8.0</td>\n",
       "      <td>1.8</td>\n",
       "      <td>3.3</td>\n",
       "      <td>14.9</td>\n",
       "      <td>14279</td>\n",
       "      <td>65.8</td>\n",
       "      <td>28.7</td>\n",
       "      <td>5.3</td>\n",
       "      <td>0.2</td>\n",
       "      <td>9.4</td>\n",
       "    </tr>\n",
       "    <tr>\n",
       "      <th>1651</th>\n",
       "      <td>30107</td>\n",
       "      <td>Montana</td>\n",
       "      <td>Wheatland</td>\n",
       "      <td>2115</td>\n",
       "      <td>1087</td>\n",
       "      <td>1028</td>\n",
       "      <td>2.1</td>\n",
       "      <td>94.8</td>\n",
       "      <td>0.0</td>\n",
       "      <td>0.7</td>\n",
       "      <td>...</td>\n",
       "      <td>23.5</td>\n",
       "      <td>0.0</td>\n",
       "      <td>14.8</td>\n",
       "      <td>9.6</td>\n",
       "      <td>917</td>\n",
       "      <td>51.4</td>\n",
       "      <td>9.5</td>\n",
       "      <td>33.0</td>\n",
       "      <td>6.1</td>\n",
       "      <td>3.4</td>\n",
       "    </tr>\n",
       "    <tr>\n",
       "      <th>1301</th>\n",
       "      <td>26141</td>\n",
       "      <td>Michigan</td>\n",
       "      <td>Presque Isle</td>\n",
       "      <td>13037</td>\n",
       "      <td>6502</td>\n",
       "      <td>6535</td>\n",
       "      <td>1.1</td>\n",
       "      <td>96.4</td>\n",
       "      <td>0.5</td>\n",
       "      <td>0.4</td>\n",
       "      <td>...</td>\n",
       "      <td>2.7</td>\n",
       "      <td>1.6</td>\n",
       "      <td>4.5</td>\n",
       "      <td>24.8</td>\n",
       "      <td>4490</td>\n",
       "      <td>76.8</td>\n",
       "      <td>15.8</td>\n",
       "      <td>6.9</td>\n",
       "      <td>0.5</td>\n",
       "      <td>13.1</td>\n",
       "    </tr>\n",
       "    <tr>\n",
       "      <th>1801</th>\n",
       "      <td>35011</td>\n",
       "      <td>New Mexico</td>\n",
       "      <td>De Baca</td>\n",
       "      <td>2020</td>\n",
       "      <td>907</td>\n",
       "      <td>1113</td>\n",
       "      <td>45.1</td>\n",
       "      <td>50.2</td>\n",
       "      <td>0.0</td>\n",
       "      <td>0.0</td>\n",
       "      <td>...</td>\n",
       "      <td>2.8</td>\n",
       "      <td>2.1</td>\n",
       "      <td>7.4</td>\n",
       "      <td>12.7</td>\n",
       "      <td>619</td>\n",
       "      <td>66.2</td>\n",
       "      <td>25.5</td>\n",
       "      <td>8.2</td>\n",
       "      <td>0.0</td>\n",
       "      <td>5.2</td>\n",
       "    </tr>\n",
       "    <tr>\n",
       "      <th>2214</th>\n",
       "      <td>41013</td>\n",
       "      <td>Oregon</td>\n",
       "      <td>Crook</td>\n",
       "      <td>20956</td>\n",
       "      <td>10352</td>\n",
       "      <td>10604</td>\n",
       "      <td>7.4</td>\n",
       "      <td>88.8</td>\n",
       "      <td>0.3</td>\n",
       "      <td>0.9</td>\n",
       "      <td>...</td>\n",
       "      <td>3.8</td>\n",
       "      <td>1.4</td>\n",
       "      <td>6.0</td>\n",
       "      <td>21.3</td>\n",
       "      <td>8014</td>\n",
       "      <td>74.7</td>\n",
       "      <td>15.1</td>\n",
       "      <td>10.0</td>\n",
       "      <td>0.1</td>\n",
       "      <td>13.5</td>\n",
       "    </tr>\n",
       "  </tbody>\n",
       "</table>\n",
       "<p>10 rows × 37 columns</p>\n",
       "</div>"
      ],
      "text/plain": [
       "      CensusId         State        County  TotalPop     Men   Women  \\\n",
       "993      21001      Kentucky         Adair     18852    9308    9544   \n",
       "996      21007      Kentucky       Ballard      8256    4098    4158   \n",
       "2460     47065     Tennessee      Hamilton    348121  167812  180309   \n",
       "2305     42123  Pennsylvania        Warren     40962   20500   20462   \n",
       "2039     38099  North Dakota         Walsh     11005    5635    5370   \n",
       "649      17109      Illinois     McDonough     32009   15654   16355   \n",
       "1651     30107       Montana     Wheatland      2115    1087    1028   \n",
       "1301     26141      Michigan  Presque Isle     13037    6502    6535   \n",
       "1801     35011    New Mexico       De Baca      2020     907    1113   \n",
       "2214     41013        Oregon         Crook     20956   10352   10604   \n",
       "\n",
       "      Hispanic  White  Black  Native  ...  Walk  OtherTransp  WorkAtHome  \\\n",
       "993        1.8   93.7    2.7     0.1  ...   2.6          0.8         2.9   \n",
       "996        1.2   93.4    3.4     0.5  ...   0.8          2.5         2.6   \n",
       "2460       4.9   71.6   19.7     0.1  ...   2.1          1.3         4.2   \n",
       "2305       0.9   97.2    0.5     0.1  ...   4.5          1.8         2.8   \n",
       "2039      10.6   85.7    0.2     1.5  ...   5.1          0.9         5.4   \n",
       "649        2.7   88.4    4.7     0.2  ...   8.0          1.8         3.3   \n",
       "1651       2.1   94.8    0.0     0.7  ...  23.5          0.0        14.8   \n",
       "1301       1.1   96.4    0.5     0.4  ...   2.7          1.6         4.5   \n",
       "1801      45.1   50.2    0.0     0.0  ...   2.8          2.1         7.4   \n",
       "2214       7.4   88.8    0.3     0.9  ...   3.8          1.4         6.0   \n",
       "\n",
       "      MeanCommute  Employed  PrivateWork  PublicWork  SelfEmployed  \\\n",
       "993          22.7      7700         74.0        14.6          11.2   \n",
       "996          23.7      3489         79.9        11.7           8.4   \n",
       "2460         21.6    162818         79.6        14.3           5.9   \n",
       "2305         20.5     18545         79.9        12.4           7.3   \n",
       "2039         17.2      5457         73.5        15.0          11.1   \n",
       "649          14.9     14279         65.8        28.7           5.3   \n",
       "1651          9.6       917         51.4         9.5          33.0   \n",
       "1301         24.8      4490         76.8        15.8           6.9   \n",
       "1801         12.7       619         66.2        25.5           8.2   \n",
       "2214         21.3      8014         74.7        15.1          10.0   \n",
       "\n",
       "      FamilyWork  Unemployment  \n",
       "993          0.1           7.7  \n",
       "996          0.0           6.2  \n",
       "2460         0.2           8.0  \n",
       "2305         0.3           6.6  \n",
       "2039         0.4           3.3  \n",
       "649          0.2           9.4  \n",
       "1651         6.1           3.4  \n",
       "1301         0.5          13.1  \n",
       "1801         0.0           5.2  \n",
       "2214         0.1          13.5  \n",
       "\n",
       "[10 rows x 37 columns]"
      ]
     },
     "execution_count": 47,
     "metadata": {},
     "output_type": "execute_result"
    }
   ],
   "source": [
    "df.sample(10)"
   ]
  },
  {
   "cell_type": "markdown",
   "metadata": {},
   "source": [
    "- We will focus first on income per capita across counties."
   ]
  },
  {
   "cell_type": "code",
   "execution_count": 48,
   "metadata": {},
   "outputs": [
    {
     "data": {
      "text/plain": [
       "<Axes: >"
      ]
     },
     "execution_count": 48,
     "metadata": {},
     "output_type": "execute_result"
    },
    {
     "data": {
      "image/png": "[encoded data removed]",
      "text/plain": [
       "<Figure size 640x480 with 1 Axes>"
      ]
     },
     "metadata": {},
     "output_type": "display_data"
    }
   ],
   "source": [
    "df['IncomePerCap'].hist(bins = 50)"
   ]
  },
  {
   "cell_type": "markdown",
   "metadata": {},
   "source": [
    "### 1. Calculating descriptive statisctics\n",
    "\n",
    "- Let's calculate basic descriptive statistics of the income per capita."
   ]
  },
  {
   "cell_type": "code",
   "execution_count": 49,
   "metadata": {},
   "outputs": [
    {
     "data": {
      "text/plain": [
       "count     3220.000000\n",
       "mean     23981.771739\n",
       "std       6204.339960\n",
       "min       5878.000000\n",
       "25%      20238.500000\n",
       "50%      23460.000000\n",
       "75%      27053.250000\n",
       "max      65600.000000\n",
       "Name: IncomePerCap, dtype: float64"
      ]
     },
     "execution_count": 49,
     "metadata": {},
     "output_type": "execute_result"
    }
   ],
   "source": [
    "df['IncomePerCap'].describe()"
   ]
  },
  {
   "cell_type": "markdown",
   "metadata": {},
   "source": [
    "- What distribution does the data come from? Here is how we can test the goodness of the fit."
   ]
  },
  {
   "cell_type": "code",
   "execution_count": 50,
   "metadata": {},
   "outputs": [
    {
     "data": {
      "text/plain": [
       "(0.0637621121184162, 0.0009999999999998899)"
      ]
     },
     "execution_count": 50,
     "metadata": {},
     "output_type": "execute_result"
    }
   ],
   "source": [
    "# does the data come from a normal distrbution?\n",
    "diagnostic.kstest_normal(df['IncomePerCap'].values, dist = 'norm')"
   ]
  },
  {
   "cell_type": "markdown",
   "metadata": {},
   "source": [
    "- p_value < 0.05 -> we can reject the null hypothesis that the data comes from a normal distribution!"
   ]
  },
  {
   "cell_type": "code",
   "execution_count": 51,
   "metadata": {},
   "outputs": [
    {
     "data": {
      "text/plain": [
       "(0.433243770582646, 0.0009999999999998899)"
      ]
     },
     "execution_count": 51,
     "metadata": {},
     "output_type": "execute_result"
    }
   ],
   "source": [
    "#how about exponential?\n",
    "diagnostic.kstest_normal(df['IncomePerCap'].values, dist = 'exp')"
   ]
  },
  {
   "cell_type": "markdown",
   "metadata": {},
   "source": [
    "- p < 0.05 -> not exponential either!"
   ]
  },
  {
   "cell_type": "markdown",
   "metadata": {},
   "source": [
    "### 2. How to sample the data"
   ]
  },
  {
   "cell_type": "markdown",
   "metadata": {},
   "source": [
    "- Often we need to find random samples from the dataset. We can do so conveniently with pandas wrappers."
   ]
  },
  {
   "cell_type": "code",
   "execution_count": 52,
   "metadata": {},
   "outputs": [],
   "source": [
    "#make 10 samples with replacement\n",
    "sample1_counties = df.sample(n = 10, replace = True)\n",
    "\n",
    "#make 10 samples without replacement\n",
    "sample1_counties = df.sample(n = 10, replace = False)\n",
    "\n",
    "#sometimes we want to sample in an ublanaced way, so that we upsample datapoints of certain characteristic,\n",
    "#and downsample the others. this can be acieved with weights parameter\n",
    "#here we sample by upsampling counties with large population\n",
    "sample2_counties = df.sample(n = 10, replace = False, weights = df['TotalPop'])"
   ]
  },
  {
   "cell_type": "code",
   "execution_count": 53,
   "metadata": {},
   "outputs": [
    {
     "name": "stdout",
     "output_type": "stream",
     "text": [
      "206437.3\n",
      "1106871.9\n"
     ]
    }
   ],
   "source": [
    "#on avergage, the samples in the sample produce with reveighting now have higher population, as we wanted!\n",
    "print(sample1_counties['TotalPop'].mean())\n",
    "print(sample2_counties['TotalPop'].mean())"
   ]
  },
  {
   "cell_type": "markdown",
   "metadata": {},
   "source": [
    "### 3. Examining relationship between two variables"
   ]
  },
  {
   "cell_type": "markdown",
   "metadata": {},
   "source": [
    "- Is income per capita of a county correlated with the unemployment?"
   ]
  },
  {
   "cell_type": "code",
   "execution_count": 54,
   "metadata": {},
   "outputs": [
    {
     "data": {
      "text/plain": [
       "PearsonRResult(statistic=0.2646136320394489, pvalue=9.942215354239015e-53)"
      ]
     },
     "execution_count": 54,
     "metadata": {},
     "output_type": "execute_result"
    }
   ],
   "source": [
    "stats.pearsonr(df['IncomePerCap'],df['Employed'])"
   ]
  },
  {
   "cell_type": "markdown",
   "metadata": {},
   "source": [
    "- There is a small (0.26), but significant (p < 0.05) positive correlation."
   ]
  },
  {
   "cell_type": "code",
   "execution_count": 55,
   "metadata": {},
   "outputs": [
    {
     "data": {
      "text/plain": [
       "SignificanceResult(statistic=0.30770631560595474, pvalue=1.415296431173735e-71)"
      ]
     },
     "execution_count": 55,
     "metadata": {},
     "output_type": "execute_result"
    }
   ],
   "source": [
    "stats.spearmanr(df['IncomePerCap'],df['Employed'])"
   ]
  },
  {
   "cell_type": "markdown",
   "metadata": {},
   "source": [
    "- Spearman rank coorrelation is also significant.\n",
    "\n",
    "##### Pearson Vs Spearman correlation coefficients\n",
    "Pearson and Spearman correlation coefficients both measure the strength of the relationship between two variables, but they differ in key ways:\n",
    "- Pearson correlation measures the linear relationship between two continuous variables. It assumes both variables are normally distributed and is sensitive to outliers.\n",
    "- Spearman correlation measures the rank order relationship between variables. It’s non-parametric, meaning it doesn't assume normality and is better suited for monotonic relationships (where variables increase together but not necessarily linearly).\n",
    "\n",
    "In short: Pearson is for linear relationships, while Spearman is for monotonic relationships."
   ]
  },
  {
   "cell_type": "markdown",
   "metadata": {},
   "source": [
    "### 4. Hypothesis testing"
   ]
  },
  {
   "cell_type": "markdown",
   "metadata": {},
   "source": [
    "- Is income per capita higher in New York counties compared to California counties?"
   ]
  },
  {
   "cell_type": "code",
   "execution_count": 56,
   "metadata": {},
   "outputs": [
    {
     "data": {
      "text/plain": [
       "28189.75806451613"
      ]
     },
     "execution_count": 56,
     "metadata": {},
     "output_type": "execute_result"
    }
   ],
   "source": [
    "df.loc[df['State'] == 'New York']['IncomePerCap'].mean()"
   ]
  },
  {
   "cell_type": "code",
   "execution_count": 57,
   "metadata": {},
   "outputs": [
    {
     "data": {
      "text/plain": [
       "27902.603448275862"
      ]
     },
     "execution_count": 57,
     "metadata": {},
     "output_type": "execute_result"
    }
   ],
   "source": [
    "df.loc[df['State'] == 'California']['IncomePerCap'].mean()"
   ]
  },
  {
   "cell_type": "markdown",
   "metadata": {},
   "source": [
    "- We see that there is a ~300$ gap. Quite a lot!\n",
    "- But is it significantly higher? Let's use a t-test. This is a two-sided test for the null hypothesis that the two independent samples have identical average (expected) values. "
   ]
  },
  {
   "cell_type": "code",
   "execution_count": 58,
   "metadata": {},
   "outputs": [
    {
     "data": {
      "text/plain": [
       "TtestResult(statistic=0.19788117232375713, pvalue=0.8434785239169611, df=118.0)"
      ]
     },
     "execution_count": 58,
     "metadata": {},
     "output_type": "execute_result"
    }
   ],
   "source": [
    "stats.ttest_ind(df.loc[df['State'] == 'New York']['IncomePerCap'], df.loc[df['State'] == 'California']['IncomePerCap'])"
   ]
  },
  {
   "cell_type": "markdown",
   "metadata": {},
   "source": [
    "- p is not smaller than 0.05 -> we cannot reject the null hypothesis that the income is the same -> there is no significant difference"
   ]
  },
  {
   "cell_type": "markdown",
   "metadata": {},
   "source": [
    "### 5. How to measure uncertainty\n",
    "- Now we see the importance of mesuring uncertainty and indicating it on data visualizations.\n",
    "- Visual inspection of 95% confidence intervals lets us see that the difference is not significant (the errorbars are overlapping)."
   ]
  },
  {
   "cell_type": "code",
   "execution_count": 59,
   "metadata": {},
   "outputs": [
    {
     "data": {
      "text/plain": [
       "(25000.0, 32000.0)"
      ]
     },
     "execution_count": 59,
     "metadata": {},
     "output_type": "execute_result"
    },
    {
     "data": {
      "image/png": "[encoded data removed]",
      "text/plain": [
       "<Figure size 640x480 with 1 Axes>"
      ]
     },
     "metadata": {},
     "output_type": "display_data"
    }
   ],
   "source": [
    "ax = sns.barplot(x=\"State\", y=\"IncomePerCap\", data=df.loc[df['State'].isin(['New York','California'])])\n",
    "plt.ylim([25000,32000])"
   ]
  },
  {
   "cell_type": "markdown",
   "metadata": {},
   "source": [
    "# Exercise 1: Boosting the economy by incentivizing self-employment\n",
    "\n",
    "Assume the biggest priority of the local government in 2018 is to increase per-capita income. To do so, the officials plan to adopt a strategy for incentivizing self-employment through a series of campaigns, educational programs, and dedicated funds.\n",
    "\n",
    "Since it is unethical and impossible in this setting to run a controlled experiment involving citizens (e.g., fire employees and force them to self-employ), the officials have asked you, the data scientist, to establish the effect of self-employment on the economy, relying on observational data.\n",
    "\n",
    "**A)** Using suitable methods, determine and quantify the dependency between the percentage of self-employed citizens and per capita income across all 3,212 US counties. Do citizens in counties that have a higher percentage of self-employed people earn more per capita?"
   ]
  },
  {
   "cell_type": "code",
   "execution_count": 79,
   "metadata": {},
   "outputs": [
    {
     "name": "stdout",
     "output_type": "stream",
     "text": [
      "Pearson correlation:  0.08727386609551788\n",
      "p-value:  7.052861196524553e-07\n"
     ]
    }
   ],
   "source": [
    "pearson_corr, pearson_p = stats.pearsonr(df['IncomePerCap'], df['SelfEmployed'])\n",
    "print(\"Pearson correlation: \", pearson_corr)\n",
    "print(\"p-value: \", pearson_p)"
   ]
  },
  {
   "cell_type": "markdown",
   "metadata": {},
   "source": [
    "**B)** The pilot program will involve all counties within a limited set of three US states. Set A includes Wisconsin, Tennessee, and  Minnesota. Quantify the dependency of per-capita income on self-employment rates across all the counties in set A."
   ]
  },
  {
   "cell_type": "code",
   "execution_count": 80,
   "metadata": {},
   "outputs": [
    {
     "data": {
      "text/plain": [
       "<Axes: xlabel='IncomePerCap', ylabel='SelfEmployed'>"
      ]
     },
     "execution_count": 80,
     "metadata": {},
     "output_type": "execute_result"
    },
    {
     "data": {
      "image/png": "[encoded data removed]",
      "text/plain": [
       "<Figure size 1000x600 with 1 Axes>"
      ]
     },
     "metadata": {},
     "output_type": "display_data"
    }
   ],
   "source": [
    "SetA = df[df['State'].isin(['Wisconsin', 'Tennessee', 'Minnesota'])]\n",
    "\n",
    "# Display the data\n",
    "plt.figure(figsize=(10, 6))\n",
    "sns.scatterplot(x = 'IncomePerCap', y = 'SelfEmployed', data = SetA, hue = 'State')"
   ]
  },
  {
   "cell_type": "code",
   "execution_count": 83,
   "metadata": {},
   "outputs": [
    {
     "name": "stdout",
     "output_type": "stream",
     "text": [
      "pearson correlation:  -0.202293507365215\n",
      "Spearman p-value:  0.0011881639322138644\n"
     ]
    }
   ],
   "source": [
    "pearsoncorr, pearsonp = stats.pearsonr(SetA['IncomePerCap'], SetA['SelfEmployed'])\n",
    "print(\"pearson correlation: \", pearsoncorr)\n",
    "print(\"Spearman p-value: \", pearsonp)"
   ]
  },
  {
   "cell_type": "markdown",
   "metadata": {},
   "source": [
    "**C)** In which state within set A is the observed effect of self-employment on per-capita income the strongest?"
   ]
  },
  {
   "cell_type": "code",
   "execution_count": 84,
   "metadata": {},
   "outputs": [
    {
     "name": "stdout",
     "output_type": "stream",
     "text": [
      "pearson correlation for Minnesota : -0.2538551921654062\n",
      "pearson p-value for Minnesota : 0.01766519930091188\n",
      "\n",
      "\n",
      "pearson correlation for Tennessee : -0.23836048684913147\n",
      "pearson p-value for Tennessee : 0.020011631955528107\n",
      "\n",
      "\n",
      "pearson correlation for Wisconsin : -0.32905300016378525\n",
      "pearson p-value for Wisconsin : 0.004768134887745218\n",
      "\n",
      "\n"
     ]
    }
   ],
   "source": [
    "# Compute the correlation matrix\n",
    "for state in SetA['State'].unique():\n",
    "    pearson_corr, pearson_p = stats.pearsonr(SetA[SetA['State'] == state]['IncomePerCap'], SetA[SetA['State'] == state]['SelfEmployed'])\n",
    "    print(\"pearson correlation for\", state, \":\", pearson_corr)\n",
    "    print(\"pearson p-value for\", state, \":\", pearson_p)\n",
    "    print(\"\\n\")"
   ]
  },
  {
   "cell_type": "markdown",
   "metadata": {},
   "source": [
    "**D)** Set B includes New Jersey, Kansas, and Rhode Island. Repeat the analysis from steps B and C above, but now for set B. In which of the two sets A and B (if any) would you recommend incentivizing self-employment? Explain your reasoning. Hint: It is useful to add a notion of confidence to your results and explore the data visually."
   ]
  },
  {
   "cell_type": "code",
   "execution_count": 85,
   "metadata": {},
   "outputs": [
    {
     "data": {
      "image/png": "[encoded data removed]",
      "text/plain": [
       "<Figure size 640x480 with 1 Axes>"
      ]
     },
     "metadata": {},
     "output_type": "display_data"
    },
    {
     "name": "stdout",
     "output_type": "stream",
     "text": [
      "pearson correlation:  -0.2322214134608569\n",
      "pearson p-value:  0.0076074930428573165\n",
      "\n",
      "\n",
      "pearson correlation for Kansas : 0.2581029971443692\n",
      "pearson p-value for Kansas : 0.007853351846832411\n",
      "\n",
      "\n",
      "pearson correlation for New Jersey : 0.48044784713362815\n",
      "pearson p-value for New Jersey : 0.027488944757806215\n",
      "\n",
      "\n",
      "pearson correlation for Rhode Island : 0.9021788382149805\n",
      "pearson p-value for Rhode Island : 0.036183102015759167\n",
      "\n",
      "\n"
     ]
    }
   ],
   "source": [
    "SetB = df[df['State'].isin(['New Jersey', 'Rhode Island', 'Kansas'])]\n",
    "\n",
    "# Plot the data\n",
    "sns.scatterplot(x = 'IncomePerCap', y = 'SelfEmployed', data = SetB, hue = 'State')\n",
    "plt.show()\n",
    "\n",
    "# Compute the overall correlation\n",
    "pearsoncorr, pearsonp = stats.pearsonr(SetB['IncomePerCap'], SetB['SelfEmployed'])\n",
    "print(\"pearson correlation: \", pearsoncorr)\n",
    "print(\"pearson p-value: \", pearsonp)\n",
    "print(\"\\n\")\n",
    "\n",
    "# Compute the correlation in each state\n",
    "for state in SetB['State'].unique():\n",
    "    pearson_corr, pearson_p = stats.pearsonr(SetB[SetB['State'] == state]['IncomePerCap'], SetB[SetB['State'] == state]['SelfEmployed'])\n",
    "    print(\"pearson correlation for\", state, \":\", pearson_corr)\n",
    "    print(\"pearson p-value for\", state, \":\", pearson_p)\n",
    "    print(\"\\n\")"
   ]
  },
  {
   "cell_type": "code",
   "execution_count": 91,
   "metadata": {},
   "outputs": [
    {
     "name": "stdout",
     "output_type": "stream",
     "text": [
      "Correlation:  -0.20180011227336406\n",
      "Confidence interval:  -0.31817620908946453 -0.0790348100115594\n",
      "Correlation:  -0.22855209884743213\n",
      "Confidence interval:  -0.3468988993611674 -0.07728175630210186\n"
     ]
    },
    {
     "data": {
      "image/png": "[encoded data removed]",
      "text/plain": [
       "<Figure size 1000x600 with 1 Axes>"
      ]
     },
     "metadata": {},
     "output_type": "display_data"
    }
   ],
   "source": [
    "def correlation_bootstraping(values, n_iter=1000):\n",
    "    # Compute the correlation with bootstrapping\n",
    "    corr_values = np.zeros(n_iter)\n",
    "    for i in range(n_iter):\n",
    "        sample = np.random.choice(range(len(values)), len(values), replace=True)\n",
    "        sample = values.iloc[sample]\n",
    "        corr, _ = stats.pearsonr(sample['IncomePerCap'], sample['SelfEmployed'])\n",
    "        corr_values[i] = corr\n",
    "\n",
    "    # Compute the confidence interval\n",
    "    lower = np.percentile(corr_values, 2.5)\n",
    "    upper = np.percentile(corr_values, 97.5)\n",
    "\n",
    "    # Return the confidence interval\n",
    "    return corr_values.mean(), lower, upper\n",
    "\n",
    "# Compute the correlation with bootstrapping (SetA)\n",
    "corr, lower, upper = correlation_bootstraping(SetA)\n",
    "print(\"Correlation: \", corr)\n",
    "print(\"Confidence interval: \", lower, upper)\n",
    "\n",
    "# Compute the correlation with bootstrapping (SetB)\n",
    "corr, lower, upper = correlation_bootstraping(SetB)\n",
    "print(\"Correlation: \", corr)\n",
    "print(\"Confidence interval: \", lower, upper)\n",
    "\n",
    "# Plot the two results with histograms\n",
    "plt.figure(figsize=(10, 6))\n",
    "plt.errorbar(0, correlation_bootstraping(SetA)[0], yerr=[[correlation_bootstraping(SetA)[0] - correlation_bootstraping(SetA)[1]], [correlation_bootstraping(SetA)[2] - correlation_bootstraping(SetA)[0]]], fmt='o', label='Set A', color='blue')\n",
    "plt.errorbar(1, correlation_bootstraping(SetB)[0], yerr=[[correlation_bootstraping(SetB)[0] - correlation_bootstraping(SetB)[1]], [correlation_bootstraping(SetB)[2] - correlation_bootstraping(SetB)[0]]], fmt='o', label='Set B', color='red')\n",
    "plt.legend()\n",
    "plt.show()"
   ]
  },
  {
   "cell_type": "markdown",
   "metadata": {},
   "source": [
    "# Exercise 2. Data visualization and read the stats comprehension and interpretation questions.\n",
    "\n",
    "- As part of the quizes, two homeworks and the final exam, you will be at times asked to interpret your result based on the understanding of underlying concepts. The questions below can help you practice and get a sense of how well you understand the concepts covered in the class so far. Can you answer these questions confidently?"
   ]
  },
  {
   "cell_type": "markdown",
   "metadata": {},
   "source": [
    "### Question 1. The yearly salaries (in thousands of CHF) of 7000 people are summarized in the following box plot. If the 20th percentile of the salaries is 110,000, how many people earn between 110,000 and 114,000?\n",
    "\n",
    "- a) 2100\n",
    "- b) 700\n",
    "- c) 350\n",
    "- d) 70"
   ]
  },
  {
   "cell_type": "markdown",
   "metadata": {},
   "source": [
    "<img src=\"boxplot.png\" style=\"width: 400px;\" align=\"left\"/>"
   ]
  },
  {
   "cell_type": "code",
   "execution_count": 66,
   "metadata": {},
   "outputs": [
    {
     "name": "stdout",
     "output_type": "stream",
     "text": [
      "350.0\n"
     ]
    }
   ],
   "source": [
    "# We can do the following consideration:\n",
    "# - The number of element between 105 and 114 is 25 % of the total number of elements. \n",
    "# - The number of elements between 126 and 146 is 25 % of the total number of elements.\n",
    "# - The number of elements between 114 and 126 is 50 % of the total number of elements.\n",
    "# Since we know that the 20th percentile is 110000 it means thet 5 % of elements is between 110000 ad 114000.\n",
    "\n",
    "print(0.05 * 7000)"
   ]
  },
  {
   "cell_type": "markdown",
   "metadata": {},
   "source": [
    "### Question 2. What visualizations are suitable for getting insights about the distribution of a single continuous variable?\n",
    "\n",
    "- a) Barplot and histogram\n",
    "- b) Boxplot and histogram\n",
    "- c) Scatterplot and boxplot\n",
    "- d) Barplot, boxplot, and histogram"
   ]
  },
  {
   "cell_type": "code",
   "execution_count": 67,
   "metadata": {},
   "outputs": [],
   "source": [
    "# We can do the following consideration in the case of showing the distribution of a signle continuous variable:\n",
    "# - Barplot are not indicated for continuous variables. They are used for categorical variables.\n",
    "# - Histograms are used to show the distribution of a single continuous variable.\n",
    "# - Boxplots are used to show the distribution of a single continuous variable.\n",
    "# - Scatter plots are used to show the relationship between two continuous variables (this is very important).\n",
    "# As a consequence the correct answer is (B): BoxPlot and Histogram."
   ]
  },
  {
   "cell_type": "markdown",
   "metadata": {},
   "source": [
    "### Question 3. In a new groundbreaking study, 28 out of 100 patients reported improvements after taking a new medicine. It is known that, when given a placebo, 20% of the patients report feeling better. What is the p-value assuming the null hypothesis that the probability of successful treatment in this groundbreaking study is the same as the probability of reporting feeling better under placebo, according to a one-sided binomial test? Hint: you may use the statsmodels.stats.proportion.binom_test function.\n",
    "\n",
    "- a) 0.00034\n",
    "- b) 0.0034\n",
    "- c) 0.034\n",
    "- d) 0.34"
   ]
  },
  {
   "cell_type": "code",
   "execution_count": 77,
   "metadata": {},
   "outputs": [
    {
     "name": "stdout",
     "output_type": "stream",
     "text": [
      "p-value:  0.03415162963907485\n"
     ]
    }
   ],
   "source": [
    "# Since here we say that the probability of successful treatment in the study is the same\n",
    "# as the probability of reporting feeling better under placebo it means that the probability\n",
    "# of success of the treatment, given that the placebo probability is 20%, is 40%.\n",
    "# In this test we have that:\n",
    "# H0: The probability of successful tratment is equal to the probability of reporting feeling better under placebo.\n",
    "\n",
    "p_value = binom_test(28,100,0.2, alternative='larger')\n",
    "print(\"p-value: \", p_value)"
   ]
  },
  {
   "cell_type": "markdown",
   "metadata": {},
   "source": [
    "### Question 4. The 95% confidence interval of the average height of 1000 people using bootstrap resampling with 10000 bootstrap samples is calculated by:\n",
    "\n",
    "- a) Sampling 1000 height values with replacement and computing the mean. This is repeated 10000 times to create a sorted list of the 10000 means. The CI is defined by the 500th and the 9500th value in sorted order.\n",
    "- b) Sampling 10000 height values without replacement and computing the mean. This is repeated 1000 times to create a sorted list of the 1000 means. The CI is defined by the 25th and the 975th value in sorted order.\n",
    "- c) Sampling 1000 height values with replacement and computing the mean. This is repeated 10000 times to create a sorted list of the 10000 means. The CI is defined by the 250th and the 9750th value in sorted order.\n",
    "- d) Sampling 1000 height values without replacement and computing the mean. This is repeated 10000 times to create a sorted list of the 10000 means. The CI is defined by the 500th and the 9500th value in sorted order.\n",
    "\n",
    "\n",
    "### Bootstraping\n",
    "The bootstrap method is a resampling technique used to estimate statistics on a population by sampling a dataset with replacement. It is often used as a powerful way to estimate the true distribution of statistics, such as the mean, median and other summary statistics. The advantage of the bootstrap method is that it is more robust than traditional methods, as it does not rely on assumptions about the distribution of the data.\n",
    "The bootstraping method works as follows:\n",
    "1. Sample n observations with replacement from the original dataset to create a bootstrap sample. The size of the bootstrap sample is the same as the original dataset.\n",
    "2. Calculate the statistic of interest for the bootstrap sample.\n",
    "3. Repeat steps 1 and 2 a large number of times (e.g., 1000) to create a distribution of the statistic of interest.\n",
    "4. Calculate the confidence interval from the distribution of the statistic of interest.\n",
    "\n",
    "\n",
    "### Implement your bootstrapping function that you will use in the rest of the course. It should take an array and the number of iterations as inputs, and output 95% confidence intervals of the mean."
   ]
  },
  {
   "cell_type": "code",
   "execution_count": null,
   "metadata": {},
   "outputs": [],
   "source": [
    "# The correct answer is (C): ampling 1000 height values with replacement and computing the mean. This is repeated 10000 times to create a sorted list of the 10000 means. The CI is defined by the 250th and the 9750th value in sorted order.\n",
    "\n",
    "# Mean bootstrap function\n",
    "def mean_bootstrap(sample, n_bootstrap):\n",
    "    # Define the bootsrap_means list\n",
    "    bootstrap_means = []\n",
    "\n",
    "    # Iterate the process n_bootstrap times\n",
    "    for _ in range(n_bootstrap):\n",
    "        bootstrap_samples = np.random.choice(sample, len(sample), replace = True)\n",
    "        bootstrap_mean = np.mean(bootstrap_samples)\n",
    "        bootstrap_means.append(bootstrap_mean)\n",
    "\n",
    "    # Compute the confidence interval (remember that we always assume that the mean has a normal distribution)\n",
    "    lower_bound = np.percentile(bootstrap_means, 2.5)\n",
    "    upper_bound = np.percentile(bootstrap_means, 97.5)\n",
    "\n",
    "    # Return the confidence interval\n",
    "    return (lower_bound, upper_bound)"
   ]
  },
  {
   "cell_type": "markdown",
   "metadata": {},
   "source": [
    "### Question 5. A study conducted at EPFL revealed a negative Spearman’s correlation between GPA and entry-level job salary. Which of the following statements is true?\n",
    "\n",
    "- a) There could be a positive Spearman’s correlation between GPA and entry-level job salary in every single department of EPFL.\n",
    "- b) Spearman correlation between GPA and entry-level job salary in every single department has to be positive.\n",
    "- c) Across all levels, as opposed to entry-level only, higher GPA scores are associated with higher job salaries.\n",
    "- d) We can infer that finishing EPFL with a higher GPA causes you to have a lower entry-level job salary."
   ]
  },
  {
   "cell_type": "code",
   "execution_count": null,
   "metadata": {},
   "outputs": [],
   "source": [
    "# The only correct answer here is (A).\n",
    "# This is for the Simpson's paradox. "
   ]
  },
  {
   "cell_type": "markdown",
   "metadata": {},
   "source": [
    "### Question 6. The average number of requests per page during a day on a large website is 200, while the median is 15. \n",
    "\n",
    "- a) You can assume that the distribution is heavy-tailed.\n",
    "- b) You are dealing with a left-skewed distribution.\n",
    "- c) Half of the pages get more than 200 requests.\n",
    "- d) None of the above."
   ]
  },
  {
   "cell_type": "code",
   "execution_count": null,
   "metadata": {},
   "outputs": [],
   "source": [
    "# The correct answer here is (D).\n",
    "# We don't have any information about the distribution of the data so we cannot say if (A) or (B) are true.\n",
    "# We for sure know that (C) is false because less than half of the pages get more than 200 requests (the median is 15)."
   ]
  }
 ],
 "metadata": {
  "kernelspec": {
   "display_name": "ADA",
   "language": "python",
   "name": "python3"
  },
  "language_info": {
   "codemirror_mode": {
    "name": "ipython",
    "version": 3
   },
   "file_extension": ".py",
   "mimetype": "text/x-python",
   "name": "python",
   "nbconvert_exporter": "python",
   "pygments_lexer": "ipython3",
   "version": "3.9.20"
  },
  "varInspector": {
   "cols": {
    "lenName": 16,
    "lenType": 16,
    "lenVar": 40
   },
   "kernels_config": {
    "python": {
     "delete_cmd_postfix": "",
     "delete_cmd_prefix": "del ",
     "library": "var_list.py",
     "varRefreshCmd": "print(var_dic_list())"
    },
    "r": {
     "delete_cmd_postfix": ") ",
     "delete_cmd_prefix": "rm(",
     "library": "var_list.r",
     "varRefreshCmd": "cat(var_dic_list()) "
    }
   },
   "types_to_exclude": [
    "module",
    "function",
    "builtin_function_or_method",
    "instance",
    "_Feature"
   ],
   "window_display": false
  }
 },
 "nbformat": 4,
 "nbformat_minor": 4
}
